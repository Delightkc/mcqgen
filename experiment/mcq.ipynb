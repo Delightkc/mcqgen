{
 "cells": [
  {
   "cell_type": "code",
   "execution_count": null,
   "metadata": {},
   "outputs": [],
   "source": [
    "from setuptools import find_packages,setup\n",
    "\n",
    "setup(\n",
    "    name='mcqgenrator',\n",
    "    version='0.0.1',\n",
    "    install_requires=[\"openai\",\"langchain\",\"streamlit\",\"python-dotenv\",\"PyPDF2\"],\n",
    "    packages=find_packages()\n",
    ")"
   ]
  }
 ],
 "metadata": {
  "kernelspec": {
   "display_name": ".venv",
   "language": "python",
   "name": "python3"
  },
  "language_info": {
   "name": "python",
   "version": "3.12.2"
  }
 },
 "nbformat": 4,
 "nbformat_minor": 2
}
